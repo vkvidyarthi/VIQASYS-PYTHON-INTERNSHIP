{
 "cells": [
  {
   "cell_type": "markdown",
   "metadata": {},
   "source": [
    "___\n",
    "\n",
    "<a href='https://viqasys.com/wp-content/uploads/2021/07/ns1.png'><img src='https://viqasys.com/wp-content/uploads/2021/07/ns1.png'/></a>\n",
    "___\n",
    "<center><em>Content Copyright VIQASYS INNOVATIONS PVT LTD.</em></center>\n",
    "\n",
    "# Assignment 1"
   ]
  },
  {
   "cell_type": "markdown",
   "metadata": {},
   "source": [
    "# Question 1\n",
    "\n",
    "In the below elements, identify which of them are values or expressions. Values can be integers or strings, while expressions will be mathematical operators or combinations thereof.\n",
    "'hello', \n",
    "-87., ), o, lu, alu, ssion)'(Value))str\" (Value)"
   ]
  },
  {
   "cell_type": "markdown",
   "metadata": {},
   "source": [
    "'hello':   This is a string value.\n",
    "\n",
    "-87.: This is a floating-point number value.\n",
    "\n",
    "),: This is not a valid expression or value in Python.\n",
    "\n",
    "o: This could be a string value if quoted like 'o', otherwise it’s not a valid expression or value.\n",
    "\n",
    "lu: This is not a valid expression or value in Python unless it’s a variable name.\n",
    "\n",
    "alu: Similar to lu, this could be a variable name, but it’s not a valid expression or value on its own.\n",
    "\n",
    "ssion)'(value))str\"Value: This is not a valid expression or value in Python. It seems like a mix of string characters and parentheses without a clear structure."
   ]
  },
  {
   "cell_type": "markdown",
   "metadata": {},
   "source": [
    "## Question 2\n",
    "\n",
    "Explain the difference between a string and a variable.\n"
   ]
  },
  {
   "cell_type": "markdown",
   "metadata": {},
   "source": [
    "\n",
    "A string is a sequence of characters enclosed in single (') or double (\") quotes.\n",
    "It represents a fixed piece of text data like a word, sentence, or paragraph.\n",
    "Examples: \"hello world!\", '''This is a string with multiple lines'''\n",
    "Once created, the content of a string cannot be changed (immutable).\n",
    "\n",
    "Variable:\n",
    "\n",
    "A variable is a named container that stores a value.\n",
    "Think of it like a label attached to a box where you can place different data.\n",
    "The value stored in a variable can be changed later in your program.\n",
    "The data type of the value (e.g., string, number) can be different.\n",
    "To create a variable, you assign a value to it using the assignment operator (=)\n",
    "\n",
    "Examples:\n",
    "name = \"Alice\"  # String value\n",
    "age = 30  # Integer value\n",
    "greeting = \"Hello, \" + name + \"!\" "
   ]
  },
  {
   "cell_type": "markdown",
   "metadata": {},
   "source": [
    "## Question 3\n",
    "Describe three different data types commonly used in programming"
   ]
  },
  {
   "cell_type": "markdown",
   "metadata": {},
   "source": [
    "An expression in Python is a combination of several elements that evaluates to a single value. These elements can include:\n",
    "\n",
    "Values: These can be integers (e.g., 10, -5), floats (e.g., 3.14, -9.8), strings (e.g., \"hello\", 'world'), or Booleans (True, False).\n",
    "\n",
    "Variables: These are named containers that store values. You can use the variable name in an expression to access the stored value.\n",
    "\n",
    "Operators: These are symbols that perform operations on values. Examples include arithmetic operators (+, -, *, /), comparison operators (==, !=, <, >, <=, >=), logical operators (and, or, not), and others.\n",
    "\n",
    "Function calls: Functions are reusable blocks of code that perform specific tasks. Calling a function with arguments (if required) can be part of an expression.\n",
    "\n",
    "\n",
    "General Purpose of Expressions:\n",
    "The main purpose of expressions in Python is to:\n",
    "\n",
    "Calculate values: You can use arithmetic operators to perform calculations, like 2 + 3 * 5 or (x + y) / 2.\n",
    "\n",
    "Compare values: Use comparison operators to check relationships between values, like age > 18 or name == \"Alice\".\n",
    "\n",
    "Combine values: String concatenation (+) allows you to join strings, and other operators can combine different data types based on their purpose.\n",
    "\n",
    "Control program flow: Expressions are used in conditional statements (if, else) and loops (while, for) to determine which code block to execute based on the evaluated value (True or False).\n",
    "\n",
    "Provide arguments to functions: Functions often require arguments (data) to operate on. You can use expressions to create these arguments."
   ]
  },
  {
   "cell_type": "markdown",
   "metadata": {},
   "source": [
    "## Question 4\n",
    "What is an expression made up of? What is the general purpose of expressions?\n"
   ]
  },
  {
   "cell_type": "markdown",
   "metadata": {},
   "source": [
    "An expression can be thought of as a question that a programming language asks, and the answer to that question is the value of the expression. The purpose of expressions in Python is to produce a value that can be used in other parts of the program.\n",
    "\n",
    "Here are some examples of expressions in Python:\n",
    "\n",
    "2 + 3 (The value of this expression is 5)\n",
    "x * y (The value of this expression is the product of the values of x and y)\n",
    "2 * x + y (The value of this expression is the result of first multiplying 2 by the value of x, and then adding the value of y)\n",
    "\n",
    "This expression produces the value 5\n",
    "value = 2 + 3\n",
    "\n",
    "This expression produces the value 10\n",
    "result = value * 2\n",
    "\n",
    "This expression prints the value 10 to the console\n",
    "print(result)\n"
   ]
  },
  {
   "cell_type": "markdown",
   "metadata": {},
   "source": [
    "## Question 5\n",
    "\n",
    "Explain the difference between an expression and a statement, using examples if necessary."
   ]
  },
  {
   "cell_type": "markdown",
   "metadata": {},
   "source": [
    "An expression is a combination of values, variables, and operators that can be evaluated to produce a value. An expression can be thought of as a question that a programming language asks, and the answer to that question is the value of the expression.\n",
    "\n",
    "Here are some examples of expressions in Python:\n",
    "\n",
    "2 + 3 (The value of this expression is 5)\n",
    "x * y (The value of this expression is the product of the values of x and y)\n",
    "2 * x + y (The value of this expression is the result of first multiplying 2 by the value of x, and then adding the value of y)\n",
    "A statement, on the other hand, is a command that a programming language executes. A statement can be thought of as an instruction that tells the computer to do something.\n",
    "\n",
    "Here are some examples of statements in Python:\n",
    "\n",
    "x = 2 (This statement assigns the value 2 to the variable x)\n",
    "print(\"Hello, world!\") (This statement prints the string \"Hello, world!\" to the console)\n",
    "if x > 0: (This statement starts a conditional block that will be executed if the value of x is greater than 0)\n",
    "\n",
    "x = 2\n",
    "y = 3\n",
    "\n",
    "The following line is an expression, because it evaluates to a value (5)\n",
    "z = x + y\n",
    "\n",
    "The following line is a statement, because it tells the computer to do something (print a message)\n",
    "print(\"The value of z is:\", z)"
   ]
  },
  {
   "cell_type": "markdown",
   "metadata": {},
   "source": [
    "## Question 6\n",
    "After running the following code, what does the variable \"bacon\" contain?\n",
    "\n",
    "bacon = 22 <br>\n",
    "\n",
    "bacon + 1"
   ]
  },
  {
   "cell_type": "markdown",
   "metadata": {},
   "source": [
    "The variable bacon contains the value 23. \n",
    "The expression bacon + 1 adds 1 to the initial value of 22,\n",
    "resulting in 23."
   ]
  },
  {
   "cell_type": "markdown",
   "metadata": {},
   "source": [
    "## Question 7\n",
    "Determine the values of the following two terms:<br>\n",
    "'spam' + 'spamspam'<br>\n",
    "'spam' * 3\n",
    "\n"
   ]
  },
  {
   "cell_type": "markdown",
   "metadata": {},
   "source": [
    "1. ‘spam’ + ‘spamspam’:\n",
    "Concatenating the strings, we get: ‘spamspamspam’.\n",
    "2. Multiplying the string by  \n",
    "3. we get: ‘spamspamspam’."
   ]
  },
  {
   "cell_type": "markdown",
   "metadata": {},
   "source": [
    "## Question 8\n",
    "\n",
    "Why is \"eggs\" a valid variable name while \"100\" is invalid?"
   ]
  },
  {
   "cell_type": "markdown",
   "metadata": {},
   "source": [
    "1. “eggs”:\n",
    "This is a valid variable name because it follows the rules:\n",
    "It starts with a letter (or an underscore).\n",
    "It can contain letters, digits, and underscores.\n",
    "\n",
    "2. “100”:\n",
    "This is invalid as a variable name due to the following reasons:\n",
    "It starts with a digit (not allowed).\n",
    "Variable names cannot begin with a number.\n",
    "Python treats it as a numeric literal rather than a variable name.\n"
   ]
  },
  {
   "cell_type": "markdown",
   "metadata": {},
   "source": [
    "## Question 9\n",
    "\n",
    "List three functions that can be used to obtain the integer, floating-point number, or string version of a value."
   ]
  },
  {
   "cell_type": "code",
   "execution_count": 15,
   "metadata": {},
   "outputs": [
    {
     "name": "stdout",
     "output_type": "stream",
     "text": [
      "123\n",
      "3.14\n",
      "42\n"
     ]
    }
   ],
   "source": [
    "# int(): This function converts a value to an integer.\n",
    "# str(): this funcion is used to convert a value into string data type\n",
    "# float(): It is used to convert a value into\n",
    "\n",
    "\n",
    "\n",
    "num_str = \"123\"\n",
    "num_int = int(num_str)\n",
    "print(num_int)\n",
    "\n",
    "# float(): This function converts a value to a floating-point number (decimal).\n",
    "pi_str = \"3.14\"\n",
    "pi_float = float(pi_str)\n",
    "print(pi_float)\n",
    "\n",
    "\n",
    "# str(): This function converts a value to its string representation.\n",
    "num = 42\n",
    "num_str = str(num)\n",
    "print(num_str)\n",
    "\n"
   ]
  },
  {
   "cell_type": "markdown",
   "metadata": {},
   "source": [
    "## Question 10 \n",
    "Explain why the following expression causes an error and suggest how to fix it:<br>\n",
    "'I have eaten ' + 99 + ' burritos.'\n",
    "\n"
   ]
  },
  {
   "cell_type": "code",
   "execution_count": 14,
   "metadata": {},
   "outputs": [
    {
     "name": "stdout",
     "output_type": "stream",
     "text": [
      "i have eaten 99 burritos.\n"
     ]
    }
   ],
   "source": [
    "result = 'i have eaten ' + str(99) + ' burritos.'\n",
    "print(result)"
   ]
  },
  {
   "cell_type": "markdown",
   "metadata": {},
   "source": [
    "## Question 11\n",
    "Write a Python program to calculate the sum of two numbers and print the result.\n",
    "gative, or zero."
   ]
  },
  {
   "cell_type": "code",
   "execution_count": 12,
   "metadata": {},
   "outputs": [
    {
     "name": "stdout",
     "output_type": "stream",
     "text": [
      "The sum of 8.0 and 9.0 is 17.0.\n"
     ]
    }
   ],
   "source": [
    "num1 = float(input(\"Enter the first number: \"))\n",
    "num2 = float(input(\"Enter the second number: \"))\n",
    "sum_result = num1 + num2\n",
    "\n",
    "print(f\"The sum of {num1} and {num2} is {sum_result}.\")"
   ]
  },
  {
   "cell_type": "markdown",
   "metadata": {},
   "source": [
    "## Question 12\n",
    "Create a Python program that takes the user's name as input and prints a greeting message.\n",
    "\n"
   ]
  },
  {
   "cell_type": "code",
   "execution_count": 11,
   "metadata": {},
   "outputs": [
    {
     "name": "stdout",
     "output_type": "stream",
     "text": [
      "Hello, Raushan! Welcome to this Python program. 😊\n"
     ]
    }
   ],
   "source": [
    "user_name = input(\"Enter your name: \")\n",
    "\n",
    "print(f\"Hello, {user_name}! Welcome to this Python program. 😊\")"
   ]
  },
  {
   "cell_type": "markdown",
   "metadata": {},
   "source": [
    "## Question 13\n",
    "Write a Python program to calculate the area of a rectangle given its length and width. (Assume length and width are provided as inputs.)\n",
    "\n"
   ]
  },
  {
   "cell_type": "code",
   "execution_count": 10,
   "metadata": {},
   "outputs": [
    {
     "name": "stdout",
     "output_type": "stream",
     "text": [
      "The area of the rectangle with length 9.0 and width 8.0 is 72.0.\n"
     ]
    }
   ],
   "source": [
    "length = float(input(\"Enter the length of the rectangle: \"))\n",
    "width = float(input(\"Enter the width of the rectangle: \"))\n",
    "\n",
    "area = length * width\n",
    "\n",
    "print(f\"The area of the rectangle with length {length} and width {width} is {area}.\")"
   ]
  },
  {
   "cell_type": "markdown",
   "metadata": {},
   "source": [
    "## Question 14\n",
    "Create a Python program that asks the user for their age and prints out a message saying whether they are a child, teenager, or adult based on their age.\n",
    "\n"
   ]
  },
  {
   "cell_type": "code",
   "execution_count": 9,
   "metadata": {},
   "outputs": [
    {
     "name": "stdout",
     "output_type": "stream",
     "text": [
      "You are an adult.\n"
     ]
    }
   ],
   "source": [
    "age = int(input(\"Enter your age:\"))\n",
    "if age < 0:\n",
    "    print(\"Invaild age. please enter a postive value.\")\n",
    "elif age < 13:\n",
    "    print(\"You are child.\")\n",
    "elif age < 18:\n",
    "    print(\"You are a teenager.\")\n",
    "else:\n",
    "    print(\"You are an adult.\") "
   ]
  },
  {
   "cell_type": "markdown",
   "metadata": {},
   "source": [
    "## Question 15\n",
    "Write a Python program to convert temperature from Celsius to Fahrenheit. (Assume Celsius temperature is provided as input.)\n",
    "\n"
   ]
  },
  {
   "cell_type": "code",
   "execution_count": 7,
   "metadata": {},
   "outputs": [
    {
     "name": "stdout",
     "output_type": "stream",
     "text": [
      "37.00°C is equal to 66.60°F.\n"
     ]
    }
   ],
   "source": [
    "celsius = float(input(\"Enter the temperature in Celsius: \"))\n",
    "\n",
    "fahrenheit = (celsius * 9/5) \n",
    "print(f\"{celsius:.2f}°C is equal to {fahrenheit:.2f}°F.\")"
   ]
  },
  {
   "cell_type": "markdown",
   "metadata": {},
   "source": [
    "## Question 16\n",
    "Create a Python program that takes the radius of a circle as input and calculates its area. (Assume the value of pi is 3.14.)\n",
    "\n"
   ]
  },
  {
   "cell_type": "code",
   "execution_count": 4,
   "metadata": {},
   "outputs": [
    {
     "name": "stdout",
     "output_type": "stream",
     "text": [
      "The area of the circle with radius 7.0 is 153.86.\n"
     ]
    }
   ],
   "source": [
    "radius = float(input(\"Enter the radius of the circle: \"))\n",
    "\n",
    "pi = 3.14\n",
    "area = pi * (radius ** 2)\n",
    "\n",
    "print(f\"The area of the circle with radius {radius} is {area:.2f}.\")"
   ]
  },
  {
   "cell_type": "markdown",
   "metadata": {},
   "source": [
    "## Question 17\n",
    "Write a Python program to find the maximum of two numbers entered by the user.\n",
    "\n"
   ]
  },
  {
   "cell_type": "code",
   "execution_count": 3,
   "metadata": {},
   "outputs": [
    {
     "name": "stdout",
     "output_type": "stream",
     "text": [
      "6 is greater.\n"
     ]
    }
   ],
   "source": [
    "num1 = int(input(\"Enter your first number.\"))\n",
    "num2 = int(input(\"Enter your second number.\"))\n",
    "\n",
    "if(num1 > num2):\n",
    "    print(num1,\"is greater\")\n",
    "elif(num1 < num2):\n",
    "    print(num2, \"is greater.\")\n",
    "else:\n",
    "    print(\"both are equal\")"
   ]
  },
  {
   "cell_type": "markdown",
   "metadata": {},
   "source": [
    "## Question 18\n",
    "Create a Python program that asks the user to enter two numbers and prints out their product.\n",
    "\n"
   ]
  },
  {
   "cell_type": "code",
   "execution_count": 1,
   "metadata": {},
   "outputs": [
    {
     "name": "stdout",
     "output_type": "stream",
     "text": [
      "The product of 5.0 and 4.0 is **20.00**.\n"
     ]
    }
   ],
   "source": [
    "num1 = float(input(\"Enter the first number: \"))\n",
    "num2 = float(input(\"Enter the second number: \"))\n",
    "\n",
    "product = num1 * num2\n",
    "\n",
    "print(f\"The product of {num1} and {num2} is **{product:.2f}**.\")"
   ]
  },
  {
   "cell_type": "markdown",
   "metadata": {},
   "source": [
    "## Question 19\n",
    "Write a Python program that prompts the user to enter a number and then prints whether the number is positive, negative, or zero."
   ]
  },
  {
   "cell_type": "code",
   "execution_count": 2,
   "metadata": {},
   "outputs": [
    {
     "name": "stdout",
     "output_type": "stream",
     "text": [
      "The number is positive.\n"
     ]
    }
   ],
   "source": [
    "number = float(input(\"Enter a number: \"))\n",
    "\n",
    "if number > 0:\n",
    "    print(\"The number is positive.\")\n",
    "elif number < 0:\n",
    "    print(\"The number is negative.\")\n",
    "else:\n",
    "    print(\"The number is zero.\")"
   ]
  }
 ],
 "metadata": {
  "anaconda-cloud": {},
  "kernelspec": {
   "display_name": "Python 3 (ipykernel)",
   "language": "python",
   "name": "python3"
  },
  "language_info": {
   "codemirror_mode": {
    "name": "ipython",
    "version": 3
   },
   "file_extension": ".py",
   "mimetype": "text/x-python",
   "name": "python",
   "nbconvert_exporter": "python",
   "pygments_lexer": "ipython3",
   "version": "3.12.0"
  }
 },
 "nbformat": 4,
 "nbformat_minor": 4
}
